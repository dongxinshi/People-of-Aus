{
 "cells": [
  {
   "cell_type": "code",
   "execution_count": 1,
   "metadata": {},
   "outputs": [],
   "source": [
    "import pandas as pd\n",
    "import json\n",
    "from pandas.io.json import json_normalize\n",
    "import glob\n",
    "import os"
   ]
  },
  {
   "cell_type": "code",
   "execution_count": 6,
   "metadata": {},
   "outputs": [],
   "source": [
    "df_list = []\n",
    "os_list = os.listdir()\n",
    "os_list.sort()\n",
    "\n",
    "csv_list = [file for file in os_list if file.endswith('.csv')]\n",
    "csv_list.pop(0)\n",
    "json_list = [file for file in os_list if file.endswith('.json')]\n",
    "\n",
    "for i,val in enumerate(csv_list):\n",
    "    \n",
    "    # open json and create dict from file\n",
    "    with open(json_list[i]) as json_data:\n",
    "        data = json.load(json_data)\n",
    "    \n",
    "    df_json = pd.DataFrame(data['selectedAttributes'])\n",
    "    \n",
    "    lga_name_to_title = dict(zip(df_json['name'],df_json['title']))\n",
    "    \n",
    "    # open csv file and clean\n",
    "    df = pd.read_csv(csv_list[i], index_col=None, header=0)\n",
    "    \n",
    "    clean_cols = []\n",
    "\n",
    "    for col in df.columns:\n",
    "        clean_cols.append(lga_name_to_title[col.strip(' ')].split(' Age')[0].replace('Persons ','').replace('Females ','').replace('Males ','').replace('emales ','').replace('ales ',''))\n",
    "    \n",
    "    df.columns = clean_cols\n",
    "    \n",
    "    df = df.groupby(df.columns, axis=1).sum()\n",
    "    \n",
    "    col_list = df.columns\n",
    "\n",
    "    for col in col_list:\n",
    "        if (('Total' in col) and ('LGA' not in col)):\n",
    "            df=df.drop(col,axis=1)\n",
    "            \n",
    "    df_list.append(df)"
   ]
  },
  {
   "cell_type": "code",
   "execution_count": 10,
   "metadata": {},
   "outputs": [
    {
     "data": {
      "text/plain": [
       "61410"
      ]
     },
     "execution_count": 10,
     "metadata": {},
     "output_type": "execute_result"
    }
   ],
   "source": [
    "df_list[0]['LGA Code 2016'][518]"
   ]
  },
  {
   "cell_type": "code",
   "execution_count": 12,
   "metadata": {},
   "outputs": [],
   "source": [
    "df = pd.concat(df_list,axis=1)"
   ]
  },
  {
   "cell_type": "code",
   "execution_count": 13,
   "metadata": {},
   "outputs": [],
   "source": [
    "df = df.groupby(df.columns, axis=1).sum()"
   ]
  },
  {
   "cell_type": "code",
   "execution_count": 14,
   "metadata": {},
   "outputs": [],
   "source": [
    "df = df.rename(columns = {'China excludes SARs and Taiwan':'China', \n",
    "                         'Korea Republic of South':'South Korea',\n",
    "                         'South Eastern Europe nfd':'South Eastern Europe',\n",
    "                         'The Former Yugoslav Republic of Macedonia':'North Macedonia',\n",
    "                         'Hong Kong SAR of China':'Hong Kong',\n",
    "                         'LGA Name 2016':'LGA Name'})"
   ]
  },
  {
   "cell_type": "code",
   "execution_count": 15,
   "metadata": {},
   "outputs": [],
   "source": [
    "df = df.drop(columns = ['Born elsewhere','Country of birth not stated','LGA Code 2016'])"
   ]
  },
  {
   "cell_type": "code",
   "execution_count": 18,
   "metadata": {},
   "outputs": [],
   "source": [
    "\n",
    "second_col = df.pop('LGA Name')\n",
    "\n",
    "df.insert(0, 'LGA Name', second_col)"
   ]
  },
  {
   "cell_type": "code",
   "execution_count": 19,
   "metadata": {},
   "outputs": [
    {
     "name": "stderr",
     "output_type": "stream",
     "text": [
      "<ipython-input-19-aa46115f6696>:2: SettingWithCopyWarning: \n",
      "A value is trying to be set on a copy of a slice from a DataFrame\n",
      "\n",
      "See the caveats in the documentation: https://pandas.pydata.org/pandas-docs/stable/user_guide/indexing.html#returning-a-view-versus-a-copy\n",
      "  df['LGA Name'][i] = df['LGA Name'][i].split(' (')[0]\n"
     ]
    }
   ],
   "source": [
    "for i,name in enumerate(df['LGA Name']):\n",
    "    df['LGA Name'][i] = df['LGA Name'][i].split(' (')[0]\n"
   ]
  },
  {
   "cell_type": "code",
   "execution_count": 20,
   "metadata": {},
   "outputs": [],
   "source": [
    "df.to_csv('clean_country_of_birth_by_lga.csv',index=False)"
   ]
  }
 ],
 "metadata": {
  "kernelspec": {
   "display_name": "Python 3",
   "language": "python",
   "name": "python3"
  },
  "language_info": {
   "codemirror_mode": {
    "name": "ipython",
    "version": 3
   },
   "file_extension": ".py",
   "mimetype": "text/x-python",
   "name": "python",
   "nbconvert_exporter": "python",
   "pygments_lexer": "ipython3",
   "version": "3.8.5"
  }
 },
 "nbformat": 4,
 "nbformat_minor": 4
}
